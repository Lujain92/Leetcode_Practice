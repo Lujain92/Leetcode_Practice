{
 "cells": [
  {
   "cell_type": "markdown",
   "metadata": {},
   "source": [
    "## Leet code\n",
    "\n",
    "For today you will be solving some selected challenges on leetcode, please create an account if you don't have then\n",
    "Follow the links below:\n",
    "read them carefully and solve them then copy-paste your solution below in Code Block\n"
   ]
  },
  {
   "cell_type": "markdown",
   "metadata": {},
   "source": [
    "### **Question-01**:\n",
    "-----\n"
   ]
  },
  {
   "cell_type": "markdown",
   "metadata": {},
   "source": [
    "##### [Roman-To-Integer](https://leetcode.com/problems/roman-to-integer/)\n",
    "\n",
    "Solution:\n"
   ]
  },
  {
   "cell_type": "code",
   "execution_count": 7,
   "metadata": {},
   "outputs": [],
   "source": [
    "def romanToInt(s):\n",
    "  \"\"\"\n",
    "        :type s: str\n",
    "        :rtype: int\n",
    "  \"\"\"\n",
    "  try:\n",
    "    \n",
    "    list_of_roman=list(s.upper())\n",
    "  except :\n",
    "    return('enter a string only')\n",
    "  new=[]\n",
    "  for x in list_of_roman:\n",
    "    y=0\n",
    "    if x ==\"M\":\n",
    "      y= int(x.replace(\"M\",\"1000\"))\n",
    "    elif x==\"D\":\n",
    "      y=int(x.replace(\"D\",\"500\"))\n",
    "    elif x==\"C\":\n",
    "      y=int(x.replace(\"C\",\"100\"))\n",
    "    elif x==\"L\":\n",
    "      y=int(x.replace(\"L\",\"50\"))\n",
    "    elif x==\"X\":\n",
    "      y=int(x.replace(\"X\",\"10\"))\n",
    "    elif x==\"V\":\n",
    "      y=int(x.replace(\"V\",\"5\"))\n",
    "    elif x==\"I\":\n",
    "      y=int(x.replace(\"I\",\"1\"))\n",
    "    else:\n",
    "     return(\"invalid, please enter a roman number only\")\n",
    "        \n",
    "    new.append(y)\n",
    "  sum_num=0\n",
    "  for number in range(len(new)):\n",
    "    if number+1 >= len(new):\n",
    "      sum_num +=new[number]\n",
    "      break\n",
    "    elif  new[number] >= new[number+1]:\n",
    "      sum_num+=new[number]\n",
    "    else : \n",
    "      sum_num-=new[number]\n",
    "  \n",
    "   \n",
    "   \n",
    "  return(sum_num)\n",
    "\n",
    "  \n",
    "\n",
    "\n",
    "    "
   ]
  },
  {
   "cell_type": "markdown",
   "metadata": {},
   "source": [
    "##### testing:"
   ]
  },
  {
   "cell_type": "code",
   "execution_count": 8,
   "metadata": {},
   "outputs": [],
   "source": [
    "\n",
    "#assert  [10,1]  ==  romanToInt(\"xi\") #only for check the list conversion\n",
    "#assert  [10,1,1000]  ==  romanToInt(\"xim\") #only for check the list conversion\n",
    "\n",
    "\n",
    "assert  \"invalid, please enter a roman number only\"   ==  romanToInt(\"xie\")\n",
    "assert 'enter a string only' ==  romanToInt(1)\n",
    "assert  \"invalid, please enter a roman number only\"  ==  romanToInt(\"xq\")\n",
    "\n",
    "assert 1994 ==  romanToInt(\"MCMXCIV\")\n",
    "assert 3    ==  romanToInt(\"III\")"
   ]
  },
  {
   "cell_type": "markdown",
   "metadata": {},
   "source": [
    "##### Big(O):"
   ]
  },
  {
   "cell_type": "markdown",
   "metadata": {},
   "source": [
    "time complexity :O(N^2)\n",
    "space complexity :O(N^2)"
   ]
  },
  {
   "cell_type": "markdown",
   "metadata": {},
   "source": [
    "# White board:\n",
    "**problem domain** Write a function to convert a Roman numeral  to an Integer\n",
    "\n",
    "**Edge case :**\n",
    " 1. another string not a Roman numeral ✅\n",
    " 2. An integer ✅\n",
    " 3. lowercase letter✅\n",
    "\n",
    " **Algorithm:**\n",
    " 1. Write a function called toNum that’s take string as input\n",
    " 2. Split the string into an array\n",
    " 3. Store each character as a number that is look like\n",
    " 4. Check the order of character, it must be from (M, D, C, L, X, V, I) (1000,500,100,50,10,5,1)\n",
    " 5. If the order not like that make a subtraction by used next function or enumerate\n",
    " 6. If the order like that make a addition\n",
    "\n",
    " **Vizulaization**\n",
    "\n",
    " \n",
    " MCMXCIV(Input) >> 1994(Output)\n",
    " III (Input)>> 3(Output)"
   ]
  },
  {
   "cell_type": "markdown",
   "metadata": {},
   "source": [
    "### **Question-02**:\n",
    "--------"
   ]
  },
  {
   "cell_type": "markdown",
   "metadata": {},
   "source": [
    "##### [single-number](https://leetcode.com/problems/single-number/)\n",
    "\n",
    "Solution:\n"
   ]
  },
  {
   "cell_type": "code",
   "execution_count": null,
   "metadata": {},
   "outputs": [
    {
     "ename": "",
     "evalue": "",
     "output_type": "error",
     "traceback": [
      "\u001b[1;31mRunning cells with 'Python 3.9.5 64-bit ('3.9.5')' requires ipykernel package.\n",
      "\u001b[1;31mRun the following command to install 'ipykernel' into the Python environment. \n",
      "\u001b[1;31mCommand: '/home/lujain/.pyenv/versions/3.9.5/bin/python -m pip install ipykernel -U --force-reinstall'"
     ]
    }
   ],
   "source": []
  },
  {
   "cell_type": "markdown",
   "metadata": {},
   "source": [
    "##### testing:"
   ]
  },
  {
   "cell_type": "code",
   "execution_count": null,
   "metadata": {},
   "outputs": [
    {
     "ename": "",
     "evalue": "",
     "output_type": "error",
     "traceback": [
      "\u001b[1;31mRunning cells with 'Python 3.9.5 64-bit ('3.9.5')' requires ipykernel package.\n",
      "\u001b[1;31mRun the following command to install 'ipykernel' into the Python environment. \n",
      "\u001b[1;31mCommand: '/home/lujain/.pyenv/versions/3.9.5/bin/python -m pip install ipykernel -U --force-reinstall'"
     ]
    }
   ],
   "source": [
    "\n",
    "assert 1 ==  singleNumber([2,2,1])\n",
    "assert 4 ==  singleNumber([4,1,2,1,2])\n",
    "assert 1 ==  singleNumber([1])"
   ]
  },
  {
   "cell_type": "markdown",
   "metadata": {},
   "source": [
    "##### Big(O):"
   ]
  },
  {
   "cell_type": "markdown",
   "metadata": {},
   "source": []
  },
  {
   "cell_type": "markdown",
   "metadata": {},
   "source": [
    "### **Question-03**:\n",
    "------"
   ]
  },
  {
   "cell_type": "markdown",
   "metadata": {},
   "source": [
    "##### [Move Zeroes](https://leetcode.com/problems/move-zeroes/)\n",
    "\n",
    "Solution:\n"
   ]
  },
  {
   "cell_type": "code",
   "execution_count": null,
   "metadata": {},
   "outputs": [],
   "source": []
  },
  {
   "cell_type": "markdown",
   "metadata": {},
   "source": [
    "##### testing:"
   ]
  },
  {
   "cell_type": "code",
   "execution_count": null,
   "metadata": {},
   "outputs": [],
   "source": [
    "assert[1,3,12,0,0]==  moveZeroes([0,1,0,3,12])\n",
    "assert [0] ==  moveZeroes([0])\n",
    "assert [3,2,4,0,0,0] ==  moveZeroes([0,3,0,0,2,4])"
   ]
  },
  {
   "cell_type": "markdown",
   "metadata": {},
   "source": [
    "##### Big(O):"
   ]
  },
  {
   "cell_type": "markdown",
   "metadata": {},
   "source": []
  },
  {
   "cell_type": "markdown",
   "metadata": {},
   "source": [
    "### **Question-04**:\n",
    "------"
   ]
  },
  {
   "cell_type": "markdown",
   "metadata": {},
   "source": [
    "##### [longest-common-prefix](https://leetcode.com/problems/longest-common-prefix/)\n",
    "\n",
    "Solution:\n"
   ]
  },
  {
   "cell_type": "code",
   "execution_count": null,
   "metadata": {},
   "outputs": [],
   "source": []
  },
  {
   "cell_type": "markdown",
   "metadata": {},
   "source": [
    "##### testing:"
   ]
  },
  {
   "cell_type": "code",
   "execution_count": 14,
   "metadata": {},
   "outputs": [],
   "source": [
    "assert\"fl\"==  longestCommonPrefix([\"flower\",\"flow\",\"flight\"])\n",
    "assert  \"\" ==  longestCommonPrefix ([\"dog\",\"racecar\",\"car\"])\n",
    "assert \"tra\" ==  longestCommonPrefix([\"transform\",\"transcribe\",\"train\"])"
   ]
  },
  {
   "cell_type": "markdown",
   "metadata": {},
   "source": [
    "##### Big(O):"
   ]
  },
  {
   "cell_type": "markdown",
   "metadata": {},
   "source": []
  }
 ],
 "metadata": {
  "kernelspec": {
   "display_name": "Python 3.10.7 ('.venv': venv)",
   "language": "python",
   "name": "python3"
  },
  "language_info": {
   "codemirror_mode": {
    "name": "ipython",
    "version": 3
   },
   "file_extension": ".py",
   "mimetype": "text/x-python",
   "name": "python",
   "nbconvert_exporter": "python",
   "pygments_lexer": "ipython3",
   "version": "3.10.7"
  },
  "orig_nbformat": 4,
  "vscode": {
   "interpreter": {
    "hash": "42b6497e000baee24ba7368673959f40f4903642df1fd525f09d93a77758f3ec"
   }
  }
 },
 "nbformat": 4,
 "nbformat_minor": 2
}
