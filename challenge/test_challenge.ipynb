{
 "cells": [
  {
   "cell_type": "markdown",
   "metadata": {},
   "source": [
    "## Leet code\n",
    "\n",
    "For today you will be solving some selected challenges on leetcode, please create an account if you don't have then\n",
    "Follow the links below:\n",
    "read them carefully and solve them then copy-paste your solution below in Code Block\n"
   ]
  },
  {
   "cell_type": "markdown",
   "metadata": {},
   "source": [
    "### **Question-01**:\n",
    "-----\n"
   ]
  },
  {
   "cell_type": "markdown",
   "metadata": {},
   "source": [
    "##### [Roman-To-Integer](https://leetcode.com/problems/roman-to-integer/)\n",
    "\n",
    "Solution:\n"
   ]
  },
  {
   "cell_type": "code",
   "execution_count": 9,
   "metadata": {},
   "outputs": [],
   "source": [
    "def romanToInt(s):\n",
    "  \"\"\"\n",
    "        :type s: str\n",
    "        :rtype: int\n",
    "  \"\"\"\n",
    "  try:\n",
    "    \n",
    "    list_of_roman=list(s.upper())\n",
    "  except :\n",
    "    return('enter a string only')\n",
    "  new=[]\n",
    "  dict={\"M\":1000,\"D\":500,\"C\":100,\"L\":50,\"X\":10,\"V\":5,\"I\":1}\n",
    "  for x in list_of_roman:\n",
    "    y=0\n",
    "    if x in dict:\n",
    "      y=dict[x]\n",
    "    \n",
    "    else:\n",
    "     return(\"invalid, please enter a roman number only\")\n",
    "        \n",
    "    new.append(y)\n",
    "  sum_num=0\n",
    "  for number in range(len(new)):\n",
    "    if number+1 >= len(new):\n",
    "      sum_num +=new[number]\n",
    "      break\n",
    "    elif  new[number] >= new[number+1]:\n",
    "      sum_num+=new[number]\n",
    "    else : \n",
    "      sum_num-=new[number]\n",
    "  \n",
    "   \n",
    "   \n",
    "  return(sum_num)\n",
    "\n",
    "  \n",
    "\n",
    "\n",
    "    "
   ]
  },
  {
   "cell_type": "markdown",
   "metadata": {},
   "source": [
    "##### testing:"
   ]
  },
  {
   "cell_type": "code",
   "execution_count": 10,
   "metadata": {},
   "outputs": [],
   "source": [
    "\n",
    "#assert  [10,1]  ==  romanToInt(\"xi\") #only for check the list conversion\n",
    "#assert  [10,1,1000]  ==  romanToInt(\"xim\") #only for check the list conversion\n",
    "\n",
    "\n",
    "assert  \"invalid, please enter a roman number only\"   ==  romanToInt(\"xie\")\n",
    "assert 'enter a string only' ==  romanToInt(1)\n",
    "assert  \"invalid, please enter a roman number only\"  ==  romanToInt(\"xq\")\n",
    "\n",
    "assert 1994 ==  romanToInt(\"MCMXCIV\")\n",
    "assert 3    ==  romanToInt(\"III\")"
   ]
  },
  {
   "cell_type": "markdown",
   "metadata": {},
   "source": [
    "##### Big(O):"
   ]
  },
  {
   "cell_type": "markdown",
   "metadata": {},
   "source": [
    "time complexity :O(N^2)\n",
    "space complexity :O(N^2)"
   ]
  },
  {
   "cell_type": "markdown",
   "metadata": {},
   "source": [
    "# White board:\n",
    "**problem domain** Write a function to convert a Roman numeral  to an Integer\n",
    "\n",
    "**Edge case :**\n",
    " 1. another string not a Roman numeral ✅\n",
    " 2. An integer ✅\n",
    " 3. lowercase letter✅\n",
    "\n",
    " **Algorithm:**\n",
    " 1. Write a function called romanToInt that’s take string as input\n",
    " 2. Split the string into an array\n",
    " 3. Store each character as a number that is look like\n",
    " 4. Check the order of character, it must be from (M, D, C, L, X, V, I) (1000,500,100,50,10,5,1)\n",
    " 5. If the order not like that make a subtraction by used next function or enumerate\n",
    " 6. If the order like that make a addition\n",
    "\n",
    " **Vizulaization**\n",
    "\n",
    " \n",
    " MCMXCIV(Input) >> 1994(Output)\n",
    " III (Input)>> 3(Output)"
   ]
  },
  {
   "cell_type": "markdown",
   "metadata": {},
   "source": [
    "### **Question-02**:\n",
    "--------"
   ]
  },
  {
   "cell_type": "markdown",
   "metadata": {},
   "source": [
    "##### [single-number](https://leetcode.com/problems/single-number/)\n",
    "\n",
    "Solution:\n"
   ]
  },
  {
   "cell_type": "code",
   "execution_count": 8,
   "metadata": {},
   "outputs": [],
   "source": [
    "def  singleNumber(list_of_num) :\n",
    "    \"\"\"\n",
    "        :type nums: List[int]\n",
    "        :rtype: int\n",
    "    \"\"\"\n",
    "    \n",
    "    store_Num={}\n",
    "    for x in list_of_num:\n",
    "        if x in store_Num:\n",
    "            store_Num[x]+=1\n",
    "        else:\n",
    "            store_Num[x]=1\n",
    "    value =[i for i in store_Num if store_Num[i]==1]\n",
    "    if len(value)==1:\n",
    "        return(value[0])   \n",
    "    else:\n",
    "        return(value)           \n",
    "\n",
    "    "
   ]
  },
  {
   "cell_type": "markdown",
   "metadata": {},
   "source": [
    "##### testing:"
   ]
  },
  {
   "cell_type": "code",
   "execution_count": 9,
   "metadata": {},
   "outputs": [],
   "source": [
    "\n",
    "assert 1 ==  singleNumber([2,2,1])\n",
    "assert 4 ==  singleNumber([4,1,2,1,2])\n",
    "assert 1 ==  singleNumber([1])\n",
    "assert [1,4] ==  singleNumber([1,4,2,2,3,3])"
   ]
  },
  {
   "cell_type": "markdown",
   "metadata": {},
   "source": [
    "# White board:\n",
    "**problem domain** Write a function that take an array and return a unique item of it\n",
    "**Edge case :**\n",
    " 1. A string \n",
    " 2. if there is a lot of single number\n",
    " \n",
    " \n",
    "\n",
    " **Algorithm:**\n",
    " 1. Write a function called singleNumber that’s take list of number as input\n",
    " 2. make a dictionary for each number,the key is the number and the value how much is present\n",
    " 3. return the number that has the value 1\n",
    " n\n",
    "\n",
    " **Vizulaization**\n",
    "\n",
    " \n",
    " [2,2,1])(Input) >> 1(Output)\n",
    " [2,2,4]) (Input)>> 4(Output)\n"
   ]
  },
  {
   "cell_type": "markdown",
   "metadata": {},
   "source": [
    "##### Big(O):"
   ]
  },
  {
   "cell_type": "markdown",
   "metadata": {},
   "source": [
    "time complexity :O(N^2)\n",
    "\n",
    "space complexity :O(N^2)"
   ]
  },
  {
   "cell_type": "markdown",
   "metadata": {},
   "source": [
    "### **Question-03**:\n",
    "------"
   ]
  },
  {
   "cell_type": "markdown",
   "metadata": {},
   "source": [
    "##### [Move Zeroes](https://leetcode.com/problems/move-zeroes/)\n",
    "\n",
    "Solution:\n"
   ]
  },
  {
   "cell_type": "code",
   "execution_count": 15,
   "metadata": {},
   "outputs": [],
   "source": [
    "def moveZeroes(list_num):\n",
    "  \"\"\"\n",
    "        :type nums: List[int]\n",
    "        :rtype: None Do not return anything, modify nums in-place instead.\n",
    "  \"\"\"\n",
    "  \n",
    "  for x in list_num:\n",
    "    try:\n",
    "      if int(x) == 0:\n",
    "        list_num.remove(x)\n",
    "        list_num.append(x)\n",
    "    except:\n",
    "      return (\"not acceptable \")\n",
    "\n",
    "  return list_num"
   ]
  },
  {
   "cell_type": "markdown",
   "metadata": {},
   "source": [
    "##### testing:"
   ]
  },
  {
   "cell_type": "code",
   "execution_count": 16,
   "metadata": {},
   "outputs": [],
   "source": [
    "assert[1,3,12,0,0]==  moveZeroes([0,1,0,3,12])\n",
    "assert [0] ==  moveZeroes([0])\n",
    "assert [3,2,4,0,0,0] ==  moveZeroes([0,3,0,0,2,4])"
   ]
  },
  {
   "cell_type": "markdown",
   "metadata": {},
   "source": [
    "# White board \n",
    "**Problem domain**\n",
    "Make a function that takes an array and rearrange the elements by putting the non zero elements first then the zero elements \n",
    "\n",
    "**Edge case** \n",
    " 1. String✅\n",
    " 2. An number that is string ✅\n",
    "\n",
    "**Algorithm**\n",
    " 1. Make a function that take an array\n",
    " 2. make for loop to remove the element 0 then put it at end of list\n",
    " 3. Use remove and append method\n",
    "\n",
    "\n",
    " **Vizulaization**\n",
    "\n",
    " \n",
    "[0,1,0,3,12](Input) >> [1,3,12,0,0](Output)\n"
   ]
  },
  {
   "cell_type": "markdown",
   "metadata": {},
   "source": [
    "##### Big(O):"
   ]
  },
  {
   "cell_type": "markdown",
   "metadata": {},
   "source": [
    "time complexity :O(N)\n",
    "\n",
    "space complexity :O(1)"
   ]
  },
  {
   "cell_type": "markdown",
   "metadata": {},
   "source": [
    "### **Question-04**:\n",
    "------"
   ]
  },
  {
   "cell_type": "markdown",
   "metadata": {},
   "source": [
    "##### [longest-common-prefix](https://leetcode.com/problems/longest-common-prefix/)\n",
    "\n",
    "Solution:\n"
   ]
  },
  {
   "cell_type": "code",
   "execution_count": 3,
   "metadata": {},
   "outputs": [],
   "source": [
    "def longestCommonPrefix( strs):\n",
    "        if not strs:\n",
    "            return \"\"\n",
    "            \n",
    "        for i, letter_group in enumerate(zip(*strs)):\n",
    "            if len(set(letter_group)) > 1:\n",
    "                return strs[0][:i]\n",
    "        else:\n",
    "            return min(strs)\n",
    "                "
   ]
  },
  {
   "cell_type": "markdown",
   "metadata": {},
   "source": [
    "##### testing:"
   ]
  },
  {
   "cell_type": "code",
   "execution_count": 4,
   "metadata": {},
   "outputs": [],
   "source": [
    "assert\"fl\"==  longestCommonPrefix([\"flower\",\"flow\",\"flight\"])\n",
    "assert  \"\" ==  longestCommonPrefix ([\"dog\",\"racecar\",\"car\"])\n",
    "assert \"tra\" ==  longestCommonPrefix([\"transform\",\"transcribe\",\"train\"])"
   ]
  },
  {
   "cell_type": "markdown",
   "metadata": {},
   "source": [
    "# White board\n",
    "**Problem domain**\n",
    "Make a function that give you the mutual prefix between strings that inside the list\n",
    "**Edge case**\n",
    " 1. Number\n",
    "\n",
    "**Algorithm:**\n",
    " 1. make a function called … that take a list of String and return the mutual prefix between them\n",
    " 2. Start looping through the elements \n",
    " 3. Check if the first element[0]==second element [0] then append this to a list\n",
    " 4. Then check \n",
    " 5. If not return empty string\n",
    "\n",
    "\n",
    " **Vizulaization**\n",
    "\n",
    " \n",
    " [\"flower\",\"flow\",\"flight\"](Input) >> \"fl\"(Output)\n",
    " "
   ]
  },
  {
   "cell_type": "markdown",
   "metadata": {},
   "source": [
    "##### Big(O):"
   ]
  },
  {
   "cell_type": "markdown",
   "metadata": {},
   "source": [
    "time complexity :O(N)\n",
    "\n",
    "space complexity :O(1)"
   ]
  }
 ],
 "metadata": {
  "kernelspec": {
   "display_name": "Python 3.10.7 ('.venv': venv)",
   "language": "python",
   "name": "python3"
  },
  "language_info": {
   "codemirror_mode": {
    "name": "ipython",
    "version": 3
   },
   "file_extension": ".py",
   "mimetype": "text/x-python",
   "name": "python",
   "nbconvert_exporter": "python",
   "pygments_lexer": "ipython3",
   "version": "3.10.7"
  },
  "orig_nbformat": 4,
  "vscode": {
   "interpreter": {
    "hash": "42b6497e000baee24ba7368673959f40f4903642df1fd525f09d93a77758f3ec"
   }
  }
 },
 "nbformat": 4,
 "nbformat_minor": 2
}
